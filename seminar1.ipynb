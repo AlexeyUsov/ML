{
 "cells": [
  {
   "cell_type": "markdown",
   "metadata": {},
   "source": [
    "## Практический анализ данных и машинное обучение\n",
    "\n",
    "НИУ ВШЭ, Факультет компьютерных наук\n",
    "\n",
    "*Семинар 1 (07.09.2017)*"
   ]
  },
  {
   "cell_type": "markdown",
   "metadata": {},
   "source": [
    "# Знакомство с Jupyter Notebook"
   ]
  },
  {
   "cell_type": "markdown",
   "metadata": {},
   "source": [
    "Jupyter Notebook чем-то похож на текстовый редактор: есть меню, панель инструментов и поле для работы (ячейки). Ячейки могут содержать как код, так и текст (неразмеченный и размеченный). \n",
    "\n",
    "Пример ячейки с кодом:"
   ]
  },
  {
   "cell_type": "code",
   "execution_count": 1,
   "metadata": {},
   "outputs": [
    {
     "name": "stdout",
     "output_type": "stream",
     "text": [
      "3 0.2\n"
     ]
    }
   ],
   "source": [
    "A = 3 # создаем переменную A и присваиваем ей значение 3\n",
    "B = 0.2 \n",
    "\n",
    "# комментарий 1\n",
    "# комментарий 2\n",
    "\n",
    "print(A, B) # выводим на экран значения переменных A и B"
   ]
  },
  {
   "cell_type": "markdown",
   "metadata": {},
   "source": [
    "Пример ячейки с неразмеченным текстом:"
   ]
  },
  {
   "cell_type": "raw",
   "metadata": {},
   "source": [
    "This is the raw text."
   ]
  },
  {
   "cell_type": "markdown",
   "metadata": {},
   "source": [
    "Пример ячейки с размеченным текстом (язык разметки Markdown, почитать про него можно [здесь](http://jupyter-notebook.readthedocs.io/en/latest/examples/Notebook/Working%20With%20Markdown%20Cells.html) и [здесь](http://nestacms.com/docs/creating-content/markdown-cheat-sheet)):"
   ]
  },
  {
   "cell_type": "markdown",
   "metadata": {},
   "source": [
    "Что можно делать с помощью Markdown?\n",
    "\n",
    "Выделять заголовки разных уровней:\n",
    "\n",
    "# Заголовок 1\n",
    "## Заголовок 2\n",
    "### Заголовок 3\n",
    "\n",
    "Выделять части текста с помощью *курсива* или **полужирного начертания**. Или просто <s>зачеркивать</s>.\n",
    "\n",
    "Добавлять списки разного вида. Ненумерованный список:\n",
    "\n",
    "* пункт 1 \n",
    "* пункт 2\n",
    "\n",
    "Нумерованный список:\n",
    "\n",
    "1. Во-первых, ...\n",
    "2. Во-вторых, ...\n",
    "\n",
    "Для тех, кто знаком с LaTeX: можно красиво оформить формулы, используя синтаксис, принятый в LaTeX (наличие установленного на компьютере LaTeX не требуется, текст компилируется в пределах Jupyter Notebook):\n",
    "\n",
    "$P(A|B) = \\dfrac{P(A \\cap B)}{P(B)}$"
   ]
  },
  {
   "cell_type": "markdown",
   "metadata": {},
   "source": [
    "# Знакомство с Python"
   ]
  },
  {
   "cell_type": "markdown",
   "metadata": {},
   "source": [
    "Ресурсы:\n",
    "    \n",
    "[pythontutor.ru](http://pythontutor.ru/): вводные занятия по Python 3\n",
    "\n",
    "[The Python Tutorial](https://docs.python.org/3/tutorial/): набор тьюториалов, от базовых к продвинутым"
   ]
  },
  {
   "cell_type": "markdown",
   "metadata": {},
   "source": [
    "## По следам теории вероятностей"
   ]
  },
  {
   "cell_type": "markdown",
   "metadata": {},
   "source": [
    "Создадим список значений случайной величины $X$ и список соответствующих им вероятностей $p$."
   ]
  },
  {
   "cell_type": "code",
   "execution_count": 9,
   "metadata": {},
   "outputs": [],
   "source": [
    "# элементы списка перечисляются в квадратных скобках\n",
    "\n",
    "X = [-2, -1, 0, 1, 3]\n",
    "p = [0.1, 0.2, 0.3, 0.25, 0.15]"
   ]
  },
  {
   "cell_type": "markdown",
   "metadata": {},
   "source": [
    "Посмотрим на список `X`:"
   ]
  },
  {
   "cell_type": "code",
   "execution_count": 10,
   "metadata": {},
   "outputs": [
    {
     "data": {
      "text/plain": [
       "[-2, -1, 0, 1, 3]"
      ]
     },
     "execution_count": 10,
     "metadata": {},
     "output_type": "execute_result"
    }
   ],
   "source": [
    "X"
   ]
  },
  {
   "cell_type": "markdown",
   "metadata": {},
   "source": [
    "Узнаем его длину (число элементов в списке):"
   ]
  },
  {
   "cell_type": "code",
   "execution_count": 11,
   "metadata": {},
   "outputs": [
    {
     "data": {
      "text/plain": [
       "5"
      ]
     },
     "execution_count": 11,
     "metadata": {},
     "output_type": "execute_result"
    }
   ],
   "source": [
    "len(X)"
   ]
  },
  {
   "cell_type": "markdown",
   "metadata": {},
   "source": [
    "Обратимся к первому элементу списка (нумерация в Python начинается с нуля):"
   ]
  },
  {
   "cell_type": "code",
   "execution_count": 12,
   "metadata": {},
   "outputs": [
    {
     "data": {
      "text/plain": [
       "-2"
      ]
     },
     "execution_count": 12,
     "metadata": {},
     "output_type": "execute_result"
    }
   ],
   "source": [
    "X[0]"
   ]
  },
  {
   "cell_type": "markdown",
   "metadata": {},
   "source": [
    "К третьему:"
   ]
  },
  {
   "cell_type": "code",
   "execution_count": 13,
   "metadata": {},
   "outputs": [
    {
     "data": {
      "text/plain": [
       "0"
      ]
     },
     "execution_count": 13,
     "metadata": {},
     "output_type": "execute_result"
    }
   ],
   "source": [
    "X[2]"
   ]
  },
  {
   "cell_type": "markdown",
   "metadata": {},
   "source": [
    "И к последнему:"
   ]
  },
  {
   "cell_type": "code",
   "execution_count": 14,
   "metadata": {},
   "outputs": [
    {
     "data": {
      "text/plain": [
       "3"
      ]
     },
     "execution_count": 14,
     "metadata": {},
     "output_type": "execute_result"
    }
   ],
   "source": [
    "X[-1]"
   ]
  },
  {
   "cell_type": "markdown",
   "metadata": {},
   "source": [
    "Проверим, правильно ли у нас задан список значений вероятностей `p`:"
   ]
  },
  {
   "cell_type": "code",
   "execution_count": 15,
   "metadata": {},
   "outputs": [
    {
     "data": {
      "text/plain": [
       "1.0"
      ]
     },
     "execution_count": 15,
     "metadata": {},
     "output_type": "execute_result"
    }
   ],
   "source": [
    "sum(p) # сумма значений равна 1, всё верно"
   ]
  },
  {
   "cell_type": "markdown",
   "metadata": {},
   "source": [
    "Теперь посчитаем математическое ожидание случайной величины $X$. Для этого нужно перемножить ее значения и соответствующие им вероятности, а затем полученные произведения сложить. Для того, чтобы было удобнее это делать, необходимо списки `X` и `p` преобразовать в массивы (arrays) -- наборы однотипных данных. \n",
    "\n",
    "Для этого потребуется импортировать библиотеку NumPy. Про библиотеку NumPy и массивы можно почитать [здесь](http://www.numpy.org/) и [здесь](https://docs.scipy.org/doc/numpy-dev/user/quickstart.html). "
   ]
  },
  {
   "cell_type": "markdown",
   "metadata": {},
   "source": [
    "## Импортирование библиотек"
   ]
  },
  {
   "cell_type": "code",
   "execution_count": 16,
   "metadata": {
    "collapsed": true
   },
   "outputs": [],
   "source": [
    "import numpy # импорт библиотеки numpy\n",
    "import numpy as np # чтобы при обращении к библиотеке не прописывать ее название полностью "
   ]
  },
  {
   "cell_type": "markdown",
   "metadata": {},
   "source": [
    "Библиотека `numpy` ставится при установке Anaconda."
   ]
  },
  {
   "cell_type": "markdown",
   "metadata": {},
   "source": [
    "## Математическое ожидание и дисперсия"
   ]
  },
  {
   "cell_type": "code",
   "execution_count": 17,
   "metadata": {},
   "outputs": [],
   "source": [
    "X = np.array(X) # превращаем X в массив и сохраняем его как X\n",
    "p = np.array(p) # то же для p"
   ]
  },
  {
   "cell_type": "code",
   "execution_count": 18,
   "metadata": {},
   "outputs": [
    {
     "data": {
      "text/plain": [
       "array([-2, -1,  0,  1,  3])"
      ]
     },
     "execution_count": 18,
     "metadata": {},
     "output_type": "execute_result"
    }
   ],
   "source": [
    "X # посмотрим на массив X"
   ]
  },
  {
   "cell_type": "code",
   "execution_count": 19,
   "metadata": {},
   "outputs": [
    {
     "data": {
      "text/plain": [
       "array([ 0.1 ,  0.2 ,  0.3 ,  0.25,  0.15])"
      ]
     },
     "execution_count": 19,
     "metadata": {},
     "output_type": "execute_result"
    }
   ],
   "source": [
    "p # посмотрим на массив p"
   ]
  },
  {
   "cell_type": "markdown",
   "metadata": {},
   "source": [
    "Теперь можем вычислить математическое ожидание. Многие операции над массивами выполняются поэлементно:"
   ]
  },
  {
   "cell_type": "code",
   "execution_count": 20,
   "metadata": {},
   "outputs": [
    {
     "data": {
      "text/plain": [
       "array([-0.2 , -0.2 ,  0.  ,  0.25,  0.45])"
      ]
     },
     "execution_count": 20,
     "metadata": {},
     "output_type": "execute_result"
    }
   ],
   "source": [
    "X * p # каждый элемент X умножается на элемент p с таким же порядковым номером (-2 на 0.1 и так далее)"
   ]
  },
  {
   "cell_type": "markdown",
   "metadata": {},
   "source": [
    "Математическое ожидание `Ex`:"
   ]
  },
  {
   "cell_type": "code",
   "execution_count": 21,
   "metadata": {},
   "outputs": [
    {
     "data": {
      "text/plain": [
       "0.29999999999999993"
      ]
     },
     "execution_count": 21,
     "metadata": {},
     "output_type": "execute_result"
    }
   ],
   "source": [
    "Ex = sum(X * p)\n",
    "Ex"
   ]
  },
  {
   "cell_type": "markdown",
   "metadata": {},
   "source": [
    "А теперь попробуте посчитать дисперсию случайной величины $X$. "
   ]
  },
  {
   "cell_type": "code",
   "execution_count": null,
   "metadata": {
    "collapsed": true
   },
   "outputs": [],
   "source": [
    "# ваш код для вычисления дисперсии\n"
   ]
  },
  {
   "cell_type": "markdown",
   "metadata": {},
   "source": [
    "**Подсказка:** возведение в степень (неважно, чисел или массивов) достигается в помощью `**`."
   ]
  },
  {
   "cell_type": "code",
   "execution_count": 22,
   "metadata": {},
   "outputs": [
    {
     "data": {
      "text/plain": [
       "36"
      ]
     },
     "execution_count": 22,
     "metadata": {},
     "output_type": "execute_result"
    }
   ],
   "source": [
    "6 ** 2"
   ]
  },
  {
   "cell_type": "markdown",
   "metadata": {},
   "source": [
    "## Построение гистограмм"
   ]
  },
  {
   "cell_type": "markdown",
   "metadata": {},
   "source": [
    "Для построения графиков нам понадобится библиотека `matplotlib`. Она тоже устанавливается вместе с Anaconda."
   ]
  },
  {
   "cell_type": "code",
   "execution_count": 23,
   "metadata": {},
   "outputs": [],
   "source": [
    "import matplotlib.pyplot as plt # импорт модуля pyplot из библиотеки matplotlib"
   ]
  },
  {
   "cell_type": "code",
   "execution_count": 24,
   "metadata": {
    "collapsed": true
   },
   "outputs": [],
   "source": [
    "# список x - рейтинги фильмов (от 1 до 10)\n",
    "\n",
    "x = [2.5, 7.8, 9.1, 9.2, 8.7, 8.7, 2.6, 1.8, 3.0, 9.2, 2.7, 5.6, 4.8, 3.9, 7.2, 4.4, 4.6]"
   ]
  },
  {
   "cell_type": "code",
   "execution_count": 25,
   "metadata": {},
   "outputs": [
    {
     "data": {
      "image/png": "[encoded data removed]",
      "text/plain": [
       "<matplotlib.figure.Figure at 0x7fba5d40f6d8>"
      ]
     },
     "metadata": {},
     "output_type": "display_data"
    }
   ],
   "source": [
    "plt.hist(x)\n",
    "plt.title(\"My first histogram\") # заголовок\n",
    "plt.xlabel(\"Film rating\") # подпись по оси x\n",
    "plt.ylabel(\"Frequency\") # подпись по оси y\n",
    "plt.show() # чтобы увидеть график"
   ]
  },
  {
   "cell_type": "code",
   "execution_count": 26,
   "metadata": {
    "collapsed": true
   },
   "outputs": [],
   "source": [
    "%matplotlib inline \n",
    "\n",
    "# чтобы график появлялся в самом ipynb-файле, а не в отдельном окне\n",
    "# если закомментировать и не запускать эту строку, график будет по-прежнему появляться в новом окне"
   ]
  },
  {
   "cell_type": "code",
   "execution_count": 27,
   "metadata": {},
   "outputs": [
    {
     "data": {
      "text/plain": [
       "(array([ 0.15898251,  0.23847377,  0.07949126,  0.15898251,  0.07949126,\n",
       "         0.07949126,  0.        ,  0.07949126,  0.07949126,  0.39745628]),\n",
       " array([ 1.8 ,  2.54,  3.28,  4.02,  4.76,  5.5 ,  6.24,  6.98,  7.72,\n",
       "         8.46,  9.2 ]),\n",
       " <a list of 10 Patch objects>)"
      ]
     },
     "execution_count": 27,
     "metadata": {},
     "output_type": "execute_result"
    },
    {
     "data": {
      "image/png": "[encoded data removed]",
      "text/plain": [
       "<matplotlib.figure.Figure at 0x7fba5b0f5f98>"
      ]
     },
     "metadata": {},
     "output_type": "display_data"
    }
   ],
   "source": [
    "plt.hist(x, normed = True) # normed = True, чтобы по оси y обозначались доли, а не абсолютные частоты"
   ]
  },
  {
   "cell_type": "markdown",
   "metadata": {},
   "source": [
    "## Нормальное распределение"
   ]
  },
  {
   "cell_type": "markdown",
   "metadata": {},
   "source": [
    "Одним из самых важных непрерывных распределений (распределений непрерывных случайных величин) является нормальное распределение (normal distribution). Нормальное распределение задается двумя параметрами: математическим ожиданием и дисперсией. Часто вместо дисперсии указывается стандартное (среднеквадратичное) отклонение, которое определяется как квадратный корень из дисперсии.\n",
    "\n",
    "Во многих функциях в Python математическое ожидание обозначается `loc` (location), а стандартное отклонение - `scale`.\n",
    "\n",
    "График функции плотности нормального распределения имеет колоколообразную форму и симметричен относительно математического ожидания."
   ]
  },
  {
   "cell_type": "markdown",
   "metadata": {},
   "source": [
    "Чтобы изобразить график функии плотности, потребуется библиотека SciPy, модуль stats (statistics). О библиотеке SciPy можно прочитать [здесь](https://docs.scipy.org/doc/scipy/reference/)."
   ]
  },
  {
   "cell_type": "code",
   "execution_count": 29,
   "metadata": {
    "collapsed": true
   },
   "outputs": [],
   "source": [
    "import scipy.stats as stats"
   ]
  },
  {
   "cell_type": "markdown",
   "metadata": {},
   "source": [
    "Функция `linspace` возвращает заданное количество значений, равномерно распределенных на отрезке."
   ]
  },
  {
   "cell_type": "code",
   "execution_count": 30,
   "metadata": {},
   "outputs": [
    {
     "data": {
      "text/plain": [
       "array([ 0.        ,  0.66666667,  1.33333333,  2.        ])"
      ]
     },
     "execution_count": 30,
     "metadata": {},
     "output_type": "execute_result"
    }
   ],
   "source": [
    "np.linspace(0, 2, 4) # делит отрезок от 0 до 2 на равные части и возвращает массив из 4 значений, \n",
    "# которые разбивают этот отрезок на равные части (левый и правый конец включительно)"
   ]
  },
  {
   "cell_type": "code",
   "execution_count": 31,
   "metadata": {},
   "outputs": [
    {
     "data": {
      "text/plain": [
       "array([ 0.        ,  0.01501502,  0.03003003,  0.04504505,  0.06006006,\n",
       "        0.07507508,  0.09009009,  0.10510511,  0.12012012,  0.13513514])"
      ]
     },
     "execution_count": 31,
     "metadata": {},
     "output_type": "execute_result"
    }
   ],
   "source": [
    "v = np.linspace(0, 15, 1000) # взять 1000 значений отрезка от 0 до 15\n",
    "\n",
    "v[0:10] # первые 10 значений v"
   ]
  },
  {
   "cell_type": "markdown",
   "metadata": {},
   "source": [
    "Сокращение * pdf * означает * probability density function * (функция плотности вероятности). Функция `pdf` из модуля `stats` рассчитывает значения функции плотности распределения в заданных точках. Но сначала нужно указать название распределения, которое нас интересует. Например, `norm` для нормального."
   ]
  },
  {
   "cell_type": "code",
   "execution_count": 32,
   "metadata": {},
   "outputs": [
    {
     "data": {
      "text/plain": [
       "[<matplotlib.lines.Line2D at 0x7fba52fcd550>]"
      ]
     },
     "execution_count": 32,
     "metadata": {},
     "output_type": "execute_result"
    },
    {
     "data": {
      "image/png": "[encoded data removed]",
      "text/plain": [
       "<matplotlib.figure.Figure at 0x7fba5b0389e8>"
      ]
     },
     "metadata": {},
     "output_type": "display_data"
    }
   ],
   "source": [
    "# нормальное распределение с математическим ожиданием loc = 7 и стандартным отклонением scale = 2\n",
    "# считаем значения функции плотности в точках - элементах массива v\n",
    "\n",
    "norm_density = stats.norm.pdf(v, loc = 7, scale = 2)\n",
    "\n",
    "plt.plot(v, norm_density) # строим график плотности распределения"
   ]
  },
  {
   "cell_type": "markdown",
   "metadata": {},
   "source": [
    "Если при выборе нормального распределения параметры `loc` и `scale` не выставлены, то по умолчанию выбирается ** стандартное нормальное распределение ** (нормальное распределение с математическим ожиданием 0 и стандартным отклонением 1)."
   ]
  },
  {
   "cell_type": "code",
   "execution_count": 33,
   "metadata": {},
   "outputs": [
    {
     "data": {
      "text/plain": [
       "[<matplotlib.lines.Line2D at 0x7fba52f44e80>]"
      ]
     },
     "execution_count": 33,
     "metadata": {},
     "output_type": "execute_result"
    },
    {
     "data": {
      "image/png": "[encoded data removed]",
      "text/plain": [
       "<matplotlib.figure.Figure at 0x7fba52f6e390>"
      ]
     },
     "metadata": {},
     "output_type": "display_data"
    }
   ],
   "source": [
    "w = np.linspace(-5, 5, 1000)\n",
    "\n",
    "norm_density = stats.norm.pdf(w)\n",
    "plt.plot(w, norm_density) # плотность стандартного нормального распределения"
   ]
  },
  {
   "cell_type": "markdown",
   "metadata": {},
   "source": [
    "И напоследок сделаем следующее. Выберем 1000 значений нормально распределенной случайной величины с заданными параметрами, построим для полученной выборки гистограмму и наложим на нее график плотности распределения случайной величины."
   ]
  },
  {
   "cell_type": "code",
   "execution_count": 37,
   "metadata": {
    "collapsed": true
   },
   "outputs": [],
   "source": [
    "# так как 1000 значений случайной величины мы будем выбирать случайным (псевдослучайным) образом,\n",
    "# чтобы у каждого открывшего этот файл были выбраны одни и те же значения,\n",
    "# нужно зафиксировать начальное число (seed)\n",
    "\n",
    "np.random.seed(1234)"
   ]
  },
  {
   "cell_type": "code",
   "execution_count": 36,
   "metadata": {},
   "outputs": [],
   "source": [
    "# normal - из нормальной случайной величины с мат.ожиданием 5 и ст.отклонением 2\n",
    "# random - выберем случайным образом заданное число значений случайной величины (size)\n",
    "\n",
    "x_norm = np.random.normal(loc = 0, scale = 3, size = 1000)"
   ]
  },
  {
   "cell_type": "code",
   "execution_count": 39,
   "metadata": {},
   "outputs": [
    {
     "data": {
      "text/plain": [
       "[<matplotlib.lines.Line2D at 0x7fba52e69f28>]"
      ]
     },
     "execution_count": 39,
     "metadata": {},
     "output_type": "execute_result"
    },
    {
     "data": {
      "image/png": "[encoded data removed]",
      "text/plain": [
       "<matplotlib.figure.Figure at 0x7fba53364e48>"
      ]
     },
     "metadata": {},
     "output_type": "display_data"
    }
   ],
   "source": [
    "# вычисляем значения функции плотности\n",
    "\n",
    "norm_var = np.linspace(-10, 10, 1000)\n",
    "norm_density = stats.norm.pdf(norm_var, 0, 3)\n",
    "\n",
    "# строим гистограмму\n",
    "\n",
    "plt.hist(x_norm, normed = True) \n",
    "\n",
    "# строим график плотности распределения\n",
    "plt.plot(norm_var, norm_density)"
   ]
  },
  {
   "cell_type": "code",
   "execution_count": null,
   "metadata": {
    "collapsed": true
   },
   "outputs": [],
   "source": []
  }
 ],
 "metadata": {
  "kernelspec": {
   "display_name": "Python 3",
   "language": "python",
   "name": "python3"
  },
  "language_info": {
   "codemirror_mode": {
    "name": "ipython",
    "version": 3
   },
   "file_extension": ".py",
   "mimetype": "text/x-python",
   "name": "python",
   "nbconvert_exporter": "python",
   "pygments_lexer": "ipython3",
   "version": "3.5.1+"
  }
 },
 "nbformat": 4,
 "nbformat_minor": 2
}
